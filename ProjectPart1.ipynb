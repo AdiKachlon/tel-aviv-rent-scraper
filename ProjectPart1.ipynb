{
 "cells": [
  {
   "cell_type": "markdown",
   "id": "7d006bab-0514-463d-9665-e54d67e86e05",
   "metadata": {},
   "source": [
    "<h2>Project</h2>\n",
    "\n"
   ]
  },
  {
   "cell_type": "code",
   "execution_count": 7,
   "id": "26656db6-b368-412d-8fb5-6ccb62fc5cdc",
   "metadata": {
    "tags": []
   },
   "outputs": [],
   "source": [
    "import requests\n",
    "from bs4 import BeautifulSoup\n",
    "import pandas as pd\n",
    "import getpass\n",
    "import json\n",
    "import datetime\n"
   ]
  },
  {
   "cell_type": "code",
   "execution_count": 8,
   "id": "80e4ed1e-0bc1-4657-b109-18a66e6b8365",
   "metadata": {
    "tags": []
   },
   "outputs": [
    {
     "name": "stdin",
     "output_type": "stream",
     "text": [
      " ········\n"
     ]
    }
   ],
   "source": [
    "API_KEY = getpass.getpass() # for security reasons"
   ]
  },
  {
   "cell_type": "code",
   "execution_count": 110,
   "id": "0fc0de65-215d-4f61-b6ca-ac09d616d6c6",
   "metadata": {
    "tags": []
   },
   "outputs": [],
   "source": [
    "url = \"https://www.ad.co.il/nadlanrent?sp277=22772,17836\"\n",
    "ad_url = \"https://www.ad.co.il/ad/{0}\"\n",
    "headers = {'User-Agent': 'Mozilla/5.0'}"
   ]
  },
  {
   "cell_type": "code",
   "execution_count": 111,
   "id": "8fb45cae-249e-4708-aa4a-266e92d1424a",
   "metadata": {
    "tags": []
   },
   "outputs": [],
   "source": [
    "def get_value_by_label(ad_soup, label):\n",
    "    tds = ad_soup.find_all('td')\n",
    "    for i, td in enumerate(tds):\n",
    "        if label in td.get_text(strip=True):\n",
    "            if i + 1 < len(tds):\n",
    "                return tds[i + 1].get_text(strip=True)\n",
    "    return ''"
   ]
  },
  {
   "cell_type": "code",
   "execution_count": 112,
   "id": "7844d699-71d3-4948-b032-ea8c966d424d",
   "metadata": {
    "tags": []
   },
   "outputs": [],
   "source": [
    "def extract_feature(ad_soup, label_text):\n",
    "    feature = ad_soup.find('span', string=lambda text: text and label_text in text)\n",
    "    if feature:\n",
    "        parent_div = feature.find_parent(class_='card-icon')\n",
    "        return parent_div and 'disabled' not in parent_div.get('class', [])\n",
    "    return False"
   ]
  },
  {
   "cell_type": "code",
   "execution_count": 113,
   "id": "2b6ae474-b4bf-4a72-94e7-da3252d3411e",
   "metadata": {
    "tags": []
   },
   "outputs": [],
   "source": [
    "def extract_ad_data(ad_soup):\n",
    "    data = {\n",
    "        'property_type': str(get_value_by_label(ad_soup, 'פרטי הנכס')),\n",
    "        'neighborhood': str(get_value_by_label(ad_soup, 'שכונה')),\n",
    "        'address': str(get_value_by_label(ad_soup, 'כתובת')),\n",
    "        'room_num': float(get_value_by_label(ad_soup, 'חדרים')),\n",
    "        'floor': 0 if 'קרקע' in get_value_by_label(ad_soup, 'קומה') else get_value_by_label(ad_soup, 'קומה').split('מתוך')[0].strip() if 'מתוך' in get_value_by_label(ad_soup, 'קומה') else None,\n",
    "        'area': int(get_value_by_label(ad_soup, 'שטח בנוי')),\n",
    "        'garden_area': int(get_value_by_label(ad_soup, 'שטח גינה') or 0) if get_value_by_label(ad_soup, 'שטח גינה').isdigit() else 0,\n",
    "        'days_to_enter': (lambda v: 0 if v in ['מיידי', 'מיידית'] else (int((datetime.datetime.strptime(v, \"%d/%m/%Y\") - datetime.datetime.today())).days if v else None))(get_value_by_label(ad_soup, 'תאריך כניסה')),\n",
    "        'num_of_payments': int(get_value_by_label(ad_soup, 'תשלומים בשנה')),\n",
    "        'monthly_arnona': int(get_value_by_label(ad_soup, 'ארנונה בחודש') or 0) if get_value_by_label(ad_soup, 'ארנונה בחודש').isdigit() else None,\n",
    "        'building_tax': int(get_value_by_label(ad_soup, 'ועד בית בחודש') or 0) if get_value_by_label(ad_soup, 'ועד בית בחודש').isdigit() else None,\n",
    "        'total_floors': 0 if 'קרקע' in get_value_by_label(ad_soup, 'קומה') else get_value_by_label(ad_soup, 'קומה').split('מתוך')[-1].strip() if 'מתוך' in get_value_by_label(ad_soup, 'קומה') else None,\n",
    "        'description': str(ad_soup.select_one('.single-product-tab p').get_text(strip=True) if ad_soup.select_one('.single-product-tab p') else None),\n",
    "        'has_parking': int(bool(extract_feature(ad_soup, 'חניה'))),\n",
    "        'has_stotsge': int(bool(extract_feature(ad_soup, 'מחסן'))),\n",
    "        'elevator': int(bool(extract_feature(ad_soup, 'מעלית'))),\n",
    "        'ac': int(bool(extract_feature(ad_soup, 'מזגן'))),\n",
    "        'handicap': int(bool(extract_feature(ad_soup, 'נגישות'))),\n",
    "        'has_bars': int(bool(extract_feature(ad_soup, 'סורגים'))),\n",
    "        'has_safe_room': int(bool(extract_feature(ad_soup, 'ממ'))),\n",
    "        'has_balcon': int(bool(extract_feature(ad_soup, 'מרפסת'))),\n",
    "        'is_furnished': int(bool(extract_feature(ad_soup, 'מרוהטת'))),\n",
    "        'is_renovated': int(bool(extract_feature(ad_soup, 'משופצת'))),\n",
    "        'price': float(ad_soup.select_one('.card-title + h2').get_text(strip=True).replace('₪', '').replace(',', '').strip()) if ad_soup.select_one('.card-title + h2') else None,\n",
    "        'num_of_images': int(len(ad_soup.select('#product_slider .swiper-slide img'))),\n",
    "        'distance_from_center': '',  # Placeholder or needs API call\n",
    "    }\n",
    "    return data"
   ]
  },
  {
   "cell_type": "code",
   "execution_count": 114,
   "id": "97cb2755-dcfe-4e7d-8280-5d6b2ce00161",
   "metadata": {
    "tags": []
   },
   "outputs": [],
   "source": [
    "def get_distance_from_center(origin_address, api_key=API_KEY):\n",
    "    try:\n",
    "        endpoint = \"https://routes.googleapis.com/directions/v2:computeRoutes\"\n",
    "\n",
    "        headers = {\n",
    "            \"Content-Type\": \"application/json\",\n",
    "            \"X-Goog-Api-Key\": api_key,\n",
    "            \"X-Goog-FieldMask\": \"routes.distanceMeters,routes.duration\"\n",
    "        }\n",
    "\n",
    "        data = {\n",
    "            \"origin\": {\n",
    "                \"address\": origin_address\n",
    "            },\n",
    "            \"destination\": {\n",
    "                \"address\": \"כיכר דיזינגוף תל אביב\"\n",
    "            },\n",
    "            \"travelMode\": \"DRIVE\",\n",
    "            \"routingPreference\": \"TRAFFIC_AWARE\"\n",
    "        }\n",
    "\n",
    "        response = requests.post(endpoint, json=data, headers=headers)\n",
    "\n",
    "        if response.status_code == 200:\n",
    "            result = response.json()\n",
    "            if result.get(\"routes\"):\n",
    "                return result[\"routes\"][0][\"distanceMeters\"] / 1000  # return in kilometers\n",
    "            else:\n",
    "                return None\n",
    "        else:\n",
    "            print(f\"Error response from API: {response.status_code} - {response.text}\")\n",
    "            return None\n",
    "    except Exception as e:\n",
    "        print(f\"Error in get_distance_from_center: {e}\")\n",
    "        return None"
   ]
  },
  {
   "cell_type": "code",
   "execution_count": 115,
   "id": "85b74566-e8aa-484c-b25c-22a054f7912e",
   "metadata": {
    "tags": []
   },
   "outputs": [],
   "source": [
    "def scrape_ad_data(limit = None, delay = 1):\n",
    "    response = requests.get(url, headers = headers)\n",
    "    soup = BeautifulSoup(response.text, 'lxml')\n",
    "    data_ids = [div['data-id'] for div in soup.select('#cards div[data-id]')]\n",
    "\n",
    "    if limit:\n",
    "        data_ids = data_ids[:limit]\n",
    "\n",
    "    records = []\n",
    "    for data_id in data_ids:\n",
    "        url_id = ad_url.format(data_id) \n",
    "       # print(f\"Scraping: {url_id}\")\n",
    "        try:\n",
    "            ad_res = requests.get(url_id, headers = headers)\n",
    "            ad_soup = BeautifulSoup(ad_res.text, 'lxml')\n",
    "            record = extract_ad_data(ad_soup)\n",
    "\n",
    "            full_address = f\"{record['address']} {record['neighborhood']} תל אביב\"\n",
    "            record['distance_from_center'] = get_distance_from_center(full_address, API_KEY)\n",
    "\n",
    "            records.append(record)\n",
    "            time.sleep(delay)  # Avoid hammering the site\n",
    "        except Exception as e:\n",
    "            print(f\"Failed to process {url_id}: {e}\")\n",
    "\n",
    "\n",
    "    return records"
   ]
  },
  {
   "cell_type": "code",
   "execution_count": 117,
   "id": "c79ac08c-ca9f-4fc6-a92d-1b88f0fd47a5",
   "metadata": {
    "tags": []
   },
   "outputs": [],
   "source": [
    "df = pd.DataFrame(scrape_ad_data())  # Limit to 10 listings for now"
   ]
  },
  {
   "cell_type": "code",
   "execution_count": 118,
   "id": "5a24b59a-fbae-4785-bd0c-e7259fc422bd",
   "metadata": {
    "tags": []
   },
   "outputs": [],
   "source": [
    "df.to_csv('apartments_data.csv', index=False, encoding='utf-8-sig')"
   ]
  },
  {
   "cell_type": "code",
   "execution_count": null,
   "id": "e3ae1ad3-6e5f-46cf-98b2-218c0f42510e",
   "metadata": {},
   "outputs": [],
   "source": []
  }
 ],
 "metadata": {
  "kernelspec": {
   "display_name": "Python 3 (ipykernel)",
   "language": "python",
   "name": "python3"
  },
  "language_info": {
   "codemirror_mode": {
    "name": "ipython",
    "version": 3
   },
   "file_extension": ".py",
   "mimetype": "text/x-python",
   "name": "python",
   "nbconvert_exporter": "python",
   "pygments_lexer": "ipython3",
   "version": "3.11.5"
  }
 },
 "nbformat": 4,
 "nbformat_minor": 5
}
